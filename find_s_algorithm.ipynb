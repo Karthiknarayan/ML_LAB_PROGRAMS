{
 "cells": [
  {
   "cell_type": "code",
   "execution_count": 4,
   "id": "f81831b7-5bc5-4d70-a401-c3b12cc1e493",
   "metadata": {},
   "outputs": [],
   "source": [
    "import numpy as np\n",
    "import pandas as pd"
   ]
  },
  {
   "cell_type": "code",
   "execution_count": 5,
   "id": "a87b9520-cbb3-4604-b427-5cc60f14cf84",
   "metadata": {},
   "outputs": [],
   "source": [
    "data=pd.read_csv(r\"C:\\Users\\pshee\\Desktop\\sem 7\\ML LAB\\labset\\Ml_programs_dataset\\dataset\\enjoySport.csv\")"
   ]
  },
  {
   "cell_type": "code",
   "execution_count": 6,
   "id": "6ad03fdb-7e13-4388-b7f0-10a502cf2dbb",
   "metadata": {},
   "outputs": [
    {
     "data": {
      "text/html": [
       "<div>\n",
       "<style scoped>\n",
       "    .dataframe tbody tr th:only-of-type {\n",
       "        vertical-align: middle;\n",
       "    }\n",
       "\n",
       "    .dataframe tbody tr th {\n",
       "        vertical-align: top;\n",
       "    }\n",
       "\n",
       "    .dataframe thead th {\n",
       "        text-align: right;\n",
       "    }\n",
       "</style>\n",
       "<table border=\"1\" class=\"dataframe\">\n",
       "  <thead>\n",
       "    <tr style=\"text-align: right;\">\n",
       "      <th></th>\n",
       "      <th>sky</th>\n",
       "      <th>airtemp</th>\n",
       "      <th>humidity</th>\n",
       "      <th>wind</th>\n",
       "      <th>water</th>\n",
       "      <th>forcast</th>\n",
       "      <th>enjoysport</th>\n",
       "    </tr>\n",
       "  </thead>\n",
       "  <tbody>\n",
       "    <tr>\n",
       "      <th>0</th>\n",
       "      <td>sunny</td>\n",
       "      <td>warm</td>\n",
       "      <td>normal</td>\n",
       "      <td>strong</td>\n",
       "      <td>warm</td>\n",
       "      <td>same</td>\n",
       "      <td>yes</td>\n",
       "    </tr>\n",
       "    <tr>\n",
       "      <th>1</th>\n",
       "      <td>sunny</td>\n",
       "      <td>warm</td>\n",
       "      <td>high</td>\n",
       "      <td>strong</td>\n",
       "      <td>warm</td>\n",
       "      <td>same</td>\n",
       "      <td>yes</td>\n",
       "    </tr>\n",
       "    <tr>\n",
       "      <th>2</th>\n",
       "      <td>rainy</td>\n",
       "      <td>cold</td>\n",
       "      <td>high</td>\n",
       "      <td>strong</td>\n",
       "      <td>warm</td>\n",
       "      <td>change</td>\n",
       "      <td>no</td>\n",
       "    </tr>\n",
       "    <tr>\n",
       "      <th>3</th>\n",
       "      <td>sunny</td>\n",
       "      <td>warm</td>\n",
       "      <td>high</td>\n",
       "      <td>strong</td>\n",
       "      <td>cool</td>\n",
       "      <td>change</td>\n",
       "      <td>yes</td>\n",
       "    </tr>\n",
       "  </tbody>\n",
       "</table>\n",
       "</div>"
      ],
      "text/plain": [
       "     sky airtemp humidity    wind water forcast enjoysport\n",
       "0  sunny    warm   normal  strong  warm    same        yes\n",
       "1  sunny    warm     high  strong  warm    same        yes\n",
       "2  rainy    cold     high  strong  warm  change         no\n",
       "3  sunny    warm     high  strong  cool  change        yes"
      ]
     },
     "execution_count": 6,
     "metadata": {},
     "output_type": "execute_result"
    }
   ],
   "source": [
    "data"
   ]
  },
  {
   "cell_type": "code",
   "execution_count": 7,
   "id": "7f232562-8807-47f9-bb01-909d4a74c147",
   "metadata": {},
   "outputs": [],
   "source": [
    "concepts=np.array(data)[ : , :-1]\n",
    "target=np.array(data)[ : ,-1]"
   ]
  },
  {
   "cell_type": "code",
   "execution_count": 8,
   "id": "939123ce-f9af-4be0-8d26-4f5e4d933d9c",
   "metadata": {},
   "outputs": [
    {
     "data": {
      "text/plain": [
       "array([['sunny', 'warm', 'normal', 'strong', 'warm', 'same'],\n",
       "       ['sunny', 'warm', 'high', 'strong', 'warm', 'same'],\n",
       "       ['rainy', 'cold', 'high', 'strong', 'warm', 'change'],\n",
       "       ['sunny', 'warm', 'high', 'strong', 'cool', 'change']],\n",
       "      dtype=object)"
      ]
     },
     "execution_count": 8,
     "metadata": {},
     "output_type": "execute_result"
    }
   ],
   "source": [
    "concepts"
   ]
  },
  {
   "cell_type": "code",
   "execution_count": 9,
   "id": "75aa53b4-11d2-4a2d-bcb2-297426fabe30",
   "metadata": {},
   "outputs": [
    {
     "data": {
      "text/plain": [
       "array(['yes', 'yes', 'no', 'yes'], dtype=object)"
      ]
     },
     "execution_count": 9,
     "metadata": {},
     "output_type": "execute_result"
    }
   ],
   "source": [
    "target"
   ]
  },
  {
   "cell_type": "code",
   "execution_count": 10,
   "id": "92c3fdfe-a712-42c0-96c1-37c3870b3350",
   "metadata": {},
   "outputs": [],
   "source": [
    "def train(con,tar):\n",
    "    for i, val in enumerate(tar):\n",
    "        if tar[i]=='yes':\n",
    "            specific_h=con[i].copy()\n",
    "            break\n",
    "\n",
    "\n",
    "    for i , val in enumerate(con):\n",
    "        if tar[i]=='yes':\n",
    "            for x in range(len(specific_h)):\n",
    "                if val[x] !=specific_h[x]:\n",
    "                    specific_h[x]='?'\n",
    "\n",
    "\n",
    "    return specific_h"
   ]
  },
  {
   "cell_type": "code",
   "execution_count": 11,
   "id": "f2603bd7-53e4-4f78-ab77-20dccd9986a8",
   "metadata": {},
   "outputs": [
    {
     "name": "stdout",
     "output_type": "stream",
     "text": [
      "['sunny' 'warm' '?' 'strong' '?' '?']\n"
     ]
    }
   ],
   "source": [
    "print(train (concepts,target))"
   ]
  },
  {
   "cell_type": "code",
   "execution_count": null,
   "id": "8a11f632-174c-495e-87f0-ed9916c67ca5",
   "metadata": {},
   "outputs": [],
   "source": []
  }
 ],
 "metadata": {
  "kernelspec": {
   "display_name": "Python 3 (ipykernel)",
   "language": "python",
   "name": "python3"
  },
  "language_info": {
   "codemirror_mode": {
    "name": "ipython",
    "version": 3
   },
   "file_extension": ".py",
   "mimetype": "text/x-python",
   "name": "python",
   "nbconvert_exporter": "python",
   "pygments_lexer": "ipython3",
   "version": "3.12.2"
  }
 },
 "nbformat": 4,
 "nbformat_minor": 5
}
