{
 "cells": [
  {
   "cell_type": "code",
   "execution_count": 1,
   "id": "222fbe92-5aa9-4f31-b02f-eb83f36eca99",
   "metadata": {},
   "outputs": [],
   "source": [
    "import numpy as np\n"
   ]
  },
  {
   "cell_type": "code",
   "execution_count": 2,
   "id": "98766585-6e73-45b3-9193-80ee5a6379bd",
   "metadata": {},
   "outputs": [],
   "source": [
    "input=np.array([\n",
    "    [0,0],\n",
    "    [0,1],\n",
    "    [1,0],\n",
    "    [1,1]])"
   ]
  },
  {
   "cell_type": "code",
   "execution_count": 9,
   "id": "7dadd690-523a-4c7a-b388-d578bab357c5",
   "metadata": {},
   "outputs": [],
   "source": [
    "expected_output=np.array([0,0,0,1])\n"
   ]
  },
  {
   "cell_type": "code",
   "execution_count": 10,
   "id": "2b3d10b9-3808-4645-ac8d-5b33c0e94ecc",
   "metadata": {},
   "outputs": [],
   "source": [
    "w1,w2=1.2,0.6\n",
    "bias=-1.0\n",
    "threshold=1\n",
    "learning_rate=0.5"
   ]
  },
  {
   "cell_type": "code",
   "execution_count": 11,
   "id": "ab053604-b12f-49dd-8fed-d1290a79592d",
   "metadata": {},
   "outputs": [],
   "source": [
    "def activation_function(net_input):\n",
    "    return 1 if net_input>threshold else 0"
   ]
  },
  {
   "cell_type": "code",
   "execution_count": 13,
   "id": "d308c243-d8b2-43a3-9a81-e43d9a98c065",
   "metadata": {},
   "outputs": [],
   "source": [
    "epochs=0\n",
    "while True :\n",
    "    error_count=0\n",
    "    for i in range (len(input)):\n",
    "        net_input=w1*input[i][0]+w2*input[i][1]+bias\n",
    "        output=activation_function(net_input)\n",
    "        error=expected_output[i]-output\n",
    "        if error!=0:\n",
    "            w1+=learning_rate*error*input[i][0]\n",
    "            w2+=learning_rate*error*input[i][1]\n",
    "            bias+=learning_rate*error\n",
    "            error_count+=1\n",
    "    epochs+=1\n",
    "    if error_count==0:\n",
    "        break\n",
    "        "
   ]
  },
  {
   "cell_type": "code",
   "execution_count": 14,
   "id": "8ab732ed-3e82-4d28-aa45-e423f9de2f7b",
   "metadata": {},
   "outputs": [
    {
     "name": "stdout",
     "output_type": "stream",
     "text": [
      "training completed in 3 epochs\n",
      "final weights: w1=1.2 w2=1.1 bias=-1.0\n"
     ]
    }
   ],
   "source": [
    "print(f\"training completed in {epochs} epochs\")\n",
    "print(f\"final weights: w1={w1} w2={w2} bias={bias}\")"
   ]
  },
  {
   "cell_type": "code",
   "execution_count": 17,
   "id": "28a0a717-c914-4efe-a3db-fcf5829464fd",
   "metadata": {},
   "outputs": [
    {
     "name": "stdout",
     "output_type": "stream",
     "text": [
      "testing perceptron for and gate\n",
      "\n",
      "input=[0 0],output=0,expected output=0\n",
      "input=[0 1],output=0,expected output=0\n",
      "input=[1 0],output=0,expected output=0\n",
      "input=[1 1],output=1,expected output=1\n"
     ]
    }
   ],
   "source": [
    "print(f\"testing perceptron for and gate\\n\")\n",
    "for i in range (len(input)):\n",
    "    net_input=w1*input[i][0]+w2*input[i][1]+bias\n",
    "    output=activation_function(net_input)\n",
    "    print(f\"input={input[i]},output={output},expected output={expected_output[i]}\")"
   ]
  },
  {
   "cell_type": "code",
   "execution_count": null,
   "id": "0a3c0d97-d81c-441c-9c83-b1ba9d8b8e59",
   "metadata": {},
   "outputs": [],
   "source": []
  }
 ],
 "metadata": {
  "kernelspec": {
   "display_name": "Python 3 (ipykernel)",
   "language": "python",
   "name": "python3"
  },
  "language_info": {
   "codemirror_mode": {
    "name": "ipython",
    "version": 3
   },
   "file_extension": ".py",
   "mimetype": "text/x-python",
   "name": "python",
   "nbconvert_exporter": "python",
   "pygments_lexer": "ipython3",
   "version": "3.12.2"
  }
 },
 "nbformat": 4,
 "nbformat_minor": 5
}
